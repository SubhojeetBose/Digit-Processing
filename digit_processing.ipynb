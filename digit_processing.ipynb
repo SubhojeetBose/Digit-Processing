{
 "cells": [
  {
   "cell_type": "code",
   "execution_count": 301,
   "metadata": {},
   "outputs": [
    {
     "data": {
      "text/plain": [
       "array([  0.,   0.,   5.,  13.,   9.,   1.,   0.,   0.,   0.,   0.,  13.,\n",
       "        15.,  10.,  15.,   5.,   0.,   0.,   3.,  15.,   2.,   0.,  11.,\n",
       "         8.,   0.,   0.,   4.,  12.,   0.,   0.,   8.,   8.,   0.,   0.,\n",
       "         5.,   8.,   0.,   0.,   9.,   8.,   0.,   0.,   4.,  11.,   0.,\n",
       "         1.,  12.,   7.,   0.,   0.,   2.,  14.,   5.,  10.,  12.,   0.,\n",
       "         0.,   0.,   0.,   6.,  13.,  10.,   0.,   0.,   0.])"
      ]
     },
     "execution_count": 301,
     "metadata": {},
     "output_type": "execute_result"
    }
   ],
   "source": [
    "from sklearn.datasets import load_digits\n",
    "digit=load_digits()\n",
    "digit.data[0]"
   ]
  },
  {
   "cell_type": "code",
   "execution_count": 353,
   "metadata": {},
   "outputs": [],
   "source": [
    "from sklearn.preprocessing import StandardScaler\n",
    "x_scale=StandardScaler()\n",
    "x=x_scale.fit_transform(digit.data)"
   ]
  },
  {
   "cell_type": "code",
   "execution_count": 362,
   "metadata": {},
   "outputs": [],
   "source": [
    "from sklearn.model_selection import train_test_split\n",
    "y=digit.target\n",
    "x_train,x_test,y_train,y_test=train_test_split(x,y,test_size=0.4)"
   ]
  },
  {
   "cell_type": "code",
   "execution_count": 363,
   "metadata": {
    "collapsed": true
   },
   "outputs": [],
   "source": [
    "import numpy as np\n",
    "def conv(y):\n",
    "    y_out=np.zeros((len(y),10))\n",
    "    for i in range(len(y)):\n",
    "        y_out[i,y[i]]=1\n",
    "    return y_out"
   ]
  },
  {
   "cell_type": "code",
   "execution_count": 364,
   "metadata": {},
   "outputs": [
    {
     "data": {
      "text/plain": [
       "(9, array([ 0.,  0.,  0.,  0.,  0.,  0.,  0.,  0.,  0.,  1.]))"
      ]
     },
     "execution_count": 364,
     "metadata": {},
     "output_type": "execute_result"
    }
   ],
   "source": [
    "y_out_train=conv(y_train)\n",
    "y_train[0],y_out_train[0]"
   ]
  },
  {
   "cell_type": "code",
   "execution_count": 365,
   "metadata": {
    "collapsed": true
   },
   "outputs": [],
   "source": [
    "n_struct=[64,30,10]"
   ]
  },
  {
   "cell_type": "code",
   "execution_count": 366,
   "metadata": {
    "collapsed": true
   },
   "outputs": [],
   "source": [
    "def sigmoid(z):\n",
    "    return 1/(1+np.exp(-z))\n",
    "\n",
    "def deriv(z):\n",
    "    return sigmoid(z)*(1-sigmoid(z))"
   ]
  },
  {
   "cell_type": "code",
   "execution_count": 367,
   "metadata": {
    "collapsed": true
   },
   "outputs": [],
   "source": [
    "import numpy.random as rn\n",
    "def init_w_b(n_struct):\n",
    "    w={}\n",
    "    b={}\n",
    "    for l in range(1,len(n_struct)):\n",
    "        w[l]=rn.random_sample((n_struct[l],n_struct[l-1]))\n",
    "        b[l]=rn.random_sample((n_struct[l],))\n",
    "    return w,b"
   ]
  },
  {
   "cell_type": "code",
   "execution_count": 368,
   "metadata": {
    "collapsed": true
   },
   "outputs": [],
   "source": [
    "def init_dw_db(n_struct):\n",
    "    del_w={}\n",
    "    del_b={}\n",
    "    for l in range(1,len(n_struct)):\n",
    "        del_w[l]=np.zeros((n_struct[l],n_struct[l-1]))\n",
    "        del_b[l]=np.zeros((n_struct[l],))\n",
    "    return del_w,del_b"
   ]
  },
  {
   "cell_type": "code",
   "execution_count": 369,
   "metadata": {
    "collapsed": true
   },
   "outputs": [],
   "source": [
    "def feed_forward(x,w,b):\n",
    "    h={1:x}\n",
    "    z={}\n",
    "    for l in range(1,len(w)+1):\n",
    "        if l==1:\n",
    "            node=x\n",
    "        else:\n",
    "            node=h[l]\n",
    "        z[l+1]=w[l].dot(node)+b[l]\n",
    "        h[l+1]=sigmoid(z[l+1])\n",
    "    return h,z"
   ]
  },
  {
   "cell_type": "code",
   "execution_count": 370,
   "metadata": {
    "collapsed": true
   },
   "outputs": [],
   "source": [
    "def outer_del(y,h_out,z_out):\n",
    "    return -(y-h_out)*deriv(z_out)\n",
    "\n",
    "def hid_del(del_1,w_l,z_l):\n",
    "    return np.dot(np.transpose(w_l),del_1)*deriv(z_l)"
   ]
  },
  {
   "cell_type": "code",
   "execution_count": 371,
   "metadata": {},
   "outputs": [],
   "source": [
    "def train_nn(n_struct,x,y):\n",
    "    w,b=init_w_b(n_struct)\n",
    "    iter_n=50000\n",
    "    a=0.25\n",
    "    m=len(y)\n",
    "    avg_cost_func=[]\n",
    "    while iter_n>0:\n",
    "        avg_cost=0\n",
    "        del_w,del_b=init_dw_db(n_struct)\n",
    "        for i in range(m):\n",
    "            delta={}\n",
    "            h,z=feed_forward(x[i,:],w,b)\n",
    "            for l in range(len(n_struct),0,-1):\n",
    "                if l==len(n_struct):\n",
    "                    delta[l]=outer_del(y[i,:],h[l],z[l])\n",
    "                    avg_cost=np.linalg.norm(y[i,:]-h[l])\n",
    "                else:\n",
    "                    if l>1:\n",
    "                        delta[l]=hid_del(delta[l+1],w[l],z[l])\n",
    "                    del_w[l]+=np.dot(delta[l+1][:,np.newaxis],np.transpose(h[l][:,np.newaxis]))\n",
    "                    del_b[l]+=delta[l+1]\n",
    "            for l in range(len(n_struct)-1,0,-1):\n",
    "                w[l]+=-a*(1.0/m*del_w[l])\n",
    "                b[l]+=-a*(1.0/m*del_b[l])\n",
    "            avg_cost = 1.0/m*avg_cost\n",
    "            avg_cost_func.append(avg_cost)\n",
    "            iter_n-=1\n",
    "    return w,b,avg_cost_func"
   ]
  },
  {
   "cell_type": "code",
   "execution_count": 372,
   "metadata": {
    "scrolled": true
   },
   "outputs": [],
   "source": [
    "w,b,avg_cost_func=train_nn(n_struct,x_train,y_out_train)"
   ]
  },
  {
   "cell_type": "code",
   "execution_count": 373,
   "metadata": {},
   "outputs": [
    {
     "data": {
      "text/plain": [
       "Text(0.5,0,'Iterations')"
      ]
     },
     "execution_count": 373,
     "metadata": {},
     "output_type": "execute_result"
    },
    {
     "data": {
      "image/png": "[encoded data removed]",
      "text/plain": [
       "<matplotlib.figure.Figure at 0x1bb690014e0>"
      ]
     },
     "metadata": {},
     "output_type": "display_data"
    }
   ],
   "source": [
    "import matplotlib.pyplot as plt\n",
    "plt.plot(avg_cost_func)\n",
    "plt.ylabel('Average J')\n",
    "plt.xlabel('Iterations')"
   ]
  },
  {
   "cell_type": "code",
   "execution_count": 374,
   "metadata": {
    "collapsed": true
   },
   "outputs": [],
   "source": [
    "def predict(w,b,x,layer):\n",
    "    m=x.shape[0]\n",
    "    y=np.zeros((m,))\n",
    "    for i in range(m):\n",
    "        h,z=feed_forward(x[i,:],w,b)\n",
    "        y[i]=np.argmax(h[layer])\n",
    "    return y"
   ]
  },
  {
   "cell_type": "code",
   "execution_count": 375,
   "metadata": {},
   "outputs": [
    {
     "data": {
      "text/plain": [
       "66.898470097357446"
      ]
     },
     "execution_count": 375,
     "metadata": {},
     "output_type": "execute_result"
    }
   ],
   "source": [
    "from sklearn.metrics import accuracy_score\n",
    "y_pred=predict(w,b,x_test,3)\n",
    "accuracy_score(y_test,y_pred)*100"
   ]
  },
  {
   "cell_type": "code",
   "execution_count": null,
   "metadata": {
    "collapsed": true
   },
   "outputs": [],
   "source": []
  },
  {
   "cell_type": "code",
   "execution_count": null,
   "metadata": {
    "collapsed": true
   },
   "outputs": [],
   "source": []
  },
  {
   "cell_type": "code",
   "execution_count": null,
   "metadata": {
    "collapsed": true
   },
   "outputs": [],
   "source": []
  },
  {
   "cell_type": "code",
   "execution_count": null,
   "metadata": {
    "collapsed": true
   },
   "outputs": [],
   "source": []
  }
 ],
 "metadata": {
  "kernelspec": {
   "display_name": "Python 3",
   "language": "python",
   "name": "python3"
  },
  "language_info": {
   "codemirror_mode": {
    "name": "ipython",
    "version": 3
   },
   "file_extension": ".py",
   "mimetype": "text/x-python",
   "name": "python",
   "nbconvert_exporter": "python",
   "pygments_lexer": "ipython3",
   "version": "3.6.3"
  }
 },
 "nbformat": 4,
 "nbformat_minor": 2
}
